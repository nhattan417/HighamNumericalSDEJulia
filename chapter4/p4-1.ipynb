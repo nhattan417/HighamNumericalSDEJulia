{
 "cells": [
  {
   "cell_type": "code",
   "execution_count": 1,
   "metadata": {},
   "outputs": [
    {
     "name": "stderr",
     "output_type": "stream",
     "text": [
      "\u001b[32m\u001b[1m  Activating\u001b[22m\u001b[39m project at `c:\\Users\\nguye\\Downloads\\HighamNumericalSDEJulia\\chapter4`\n",
      "\u001b[32m\u001b[1m   Resolving\u001b[22m\u001b[39m package versions...\n",
      "\u001b[32m\u001b[1m  No Changes\u001b[22m\u001b[39m to `C:\\Users\\nguye\\Downloads\\HighamNumericalSDEJulia\\chapter4\\Project.toml`\n",
      "\u001b[32m\u001b[1m  No Changes\u001b[22m\u001b[39m to `C:\\Users\\nguye\\Downloads\\HighamNumericalSDEJulia\\chapter4\\Manifest.toml`\n"
     ]
    },
    {
     "name": "stdout",
     "output_type": "stream",
     "text": [
      "\u001b[32m\u001b[1mStatus\u001b[22m\u001b[39m `C:\\Users\\nguye\\Downloads\\HighamNumericalSDEJulia\\chapter4\\Project.toml`\n",
      "  \u001b[90m[9a3f8284] \u001b[39mRandom\n"
     ]
    }
   ],
   "source": [
    "import Pkg\n",
    "\n",
    "Pkg.activate(@__DIR__) # `@__DIR__` always gives the directory of where it was run\n",
    "\n",
    "Pkg.add(\"Random\")\n",
    "\n",
    "Pkg.status()"
   ]
  },
  {
   "cell_type": "code",
   "execution_count": 2,
   "metadata": {},
   "outputs": [],
   "source": [
    "# # Translated from Matlab to Julia\n",
    "\n",
    "# using Random\n",
    "\n",
    "# Random.seed!(1234)\n",
    "\n",
    "# T = 1\n",
    "# L = 500\n",
    "# dt = T/L\n",
    "\n",
    "# dW = sqrt(dt)*randn(L)\n",
    "# W = cumsum(dW)\n",
    "\n",
    "# ito = sum([0; W[1:end-1]] .* dW)\n",
    "# itoErr = abs(ito - 0.5*(W[end]^2 - T))\n",
    "\n",
    "# println(\"Ito integral: \", ito)\n",
    "# println(\"Exact value: \", 0.5*(W[end]^2 - T))\n",
    "# print(\"Ito integral error: \", itoErr)"
   ]
  },
  {
   "cell_type": "code",
   "execution_count": 3,
   "metadata": {},
   "outputs": [
    {
     "name": "stdout",
     "output_type": "stream",
     "text": [
      "Stratonovich integral: 2.27762340393184\n",
      "Exact value: 2.280927832927225\n",
      "Stratonovich integral error: 0.003304428995384967"
     ]
    }
   ],
   "source": [
    "using Random\n",
    "\n",
    "Random.seed!(1234)\n",
    "\n",
    "T = 1\n",
    "L = 500\n",
    "dt = T/L\n",
    "\n",
    "dW = sqrt(dt)*randn(L)\n",
    "W = cumsum(dW)\n",
    "\n",
    "midW = (W .+ [0; W[1:end-1]]) ./ 2 .+ randn(L) * 0.5 * sqrt(dt)\n",
    "\n",
    "strat = sum(midW .* dW)\n",
    "stratErr = abs(strat - 0.5*W[end]^2)\n",
    "\n",
    "println(\"Stratonovich integral: \", strat)\n",
    "println(\"Exact value: \", 0.5*W[end]^2)\n",
    "print(\"Stratonovich integral error: \", stratErr)"
   ]
  }
 ],
 "metadata": {
  "kernelspec": {
   "display_name": "Julia 1.10.4",
   "language": "julia",
   "name": "julia-1.10"
  },
  "language_info": {
   "file_extension": ".jl",
   "mimetype": "application/julia",
   "name": "julia",
   "version": "1.10.4"
  }
 },
 "nbformat": 4,
 "nbformat_minor": 2
}
