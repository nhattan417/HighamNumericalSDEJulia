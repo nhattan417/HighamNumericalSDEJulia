{
 "cells": [
  {
   "cell_type": "code",
   "execution_count": 1,
   "metadata": {},
   "outputs": [
    {
     "name": "stderr",
     "output_type": "stream",
     "text": [
      "\u001b[32m\u001b[1m  Activating\u001b[22m\u001b[39m project at `c:\\Users\\nguye\\Downloads\\HighamNumericalSDEJulia\\chapter4`\n",
      "\u001b[32m\u001b[1m   Resolving\u001b[22m\u001b[39m package versions...\n",
      "\u001b[32m\u001b[1m  No Changes\u001b[22m\u001b[39m to `C:\\Users\\nguye\\Downloads\\HighamNumericalSDEJulia\\chapter4\\Project.toml`\n",
      "\u001b[32m\u001b[1m  No Changes\u001b[22m\u001b[39m to `C:\\Users\\nguye\\Downloads\\HighamNumericalSDEJulia\\chapter4\\Manifest.toml`\n"
     ]
    },
    {
     "name": "stdout",
     "output_type": "stream",
     "text": [
      "\u001b[32m\u001b[1mStatus\u001b[22m\u001b[39m `C:\\Users\\nguye\\Downloads\\HighamNumericalSDEJulia\\chapter4\\Project.toml`\n",
      "  \u001b[90m[9a3f8284] \u001b[39mRandom\n"
     ]
    }
   ],
   "source": [
    "import Pkg\n",
    "\n",
    "Pkg.activate(@__DIR__) # `@__DIR__` always gives the directory of where it was run\n",
    "\n",
    "Pkg.add(\"Random\")\n",
    "\n",
    "Pkg.status()"
   ]
  },
  {
   "cell_type": "code",
   "execution_count": 2,
   "metadata": {},
   "outputs": [
    {
     "name": "stdout",
     "output_type": "stream",
     "text": [
      "Ito isometry error: 0.03558225316710051\n"
     ]
    }
   ],
   "source": [
    "using Random\n",
    "\n",
    "Random.seed!(1234)\n",
    "\n",
    "T = 1\n",
    "L = 500\n",
    "dt = T/L\n",
    "reps = 10000\n",
    "\n",
    "expected = 0\n",
    "expected1 = 0\n",
    "\n",
    "for rep in 1:reps\n",
    "    dW = sqrt(dt)*randn(L)\n",
    "    W = cumsum(dW)\n",
    "\n",
    "    ito = sum([0; W[1:end-1]] .* dW)\n",
    "    # ito = sum(exp.(0:dt:T-dt) .* dW)\n",
    "\n",
    "    expected += ito^2\n",
    "    \n",
    "\n",
    "    WSquared = [0; W.^2][1:end-1]\n",
    "\n",
    "    integral = sum(WSquared .* dt)\n",
    "\n",
    "    # integral = sum(exp.(0:dt:T-dt).^2 .* dt)\n",
    "\n",
    "    expected1 += integral\n",
    "end\n",
    "\n",
    "println(\"Ito isometry error: \", abs(expected/reps - expected1/reps))"
   ]
  }
 ],
 "metadata": {
  "kernelspec": {
   "display_name": "Julia 1.10.4",
   "language": "julia",
   "name": "julia-1.10"
  },
  "language_info": {
   "file_extension": ".jl",
   "mimetype": "application/julia",
   "name": "julia",
   "version": "1.10.4"
  }
 },
 "nbformat": 4,
 "nbformat_minor": 2
}
